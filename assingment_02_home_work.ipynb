{
 "cells": [
  {
   "cell_type": "code",
   "execution_count": 43,
   "metadata": {},
   "outputs": [
    {
     "name": "stdout",
     "output_type": "stream",
     "text": [
      "Enter your name: ALI\n",
      "\n",
      "enter first number: 4\n",
      "enter second number: 6\n",
      "enter third number: 9\n",
      "\n",
      "Hello, ali !, Let's explore your number:\n",
      "The number 4, is even\n",
      "The number 6, is even\n",
      "The number 9, is odd\n",
      "The number 4 and its square: (4, 16)\n",
      "The number 6 and its square: (6, 36)\n",
      "The number 9 and its square: (9, 81)\n",
      "Amazing! The sum of your favorite numbers is: 19\n",
      " 19 is prime number\n"
     ]
    }
   ],
   "source": [
    "name = input(\"Enter your name\")\n",
    "number1 = int(input(\"enter first number\"))\n",
    "number2 = int(input(\"enter second number\"))\n",
    "number3 = int(input(\"enter third number\"))\n",
    "number_list = [number1, number2, number3]\n",
    "print(f'Enter your name: {name.upper()}\\n')\n",
    "print(f\"enter first number: {number1}\")\n",
    "print(f\"enter second number: {number2}\")\n",
    "print(f\"enter third number: {number3}\\n\")\n",
    "\n",
    "print(f\"Hello, {name} !, Let's explore your number:\")\n",
    "\n",
    "\n",
    "even_odd = []\n",
    "for x in number_list:\n",
    "    if x % 2 == 0:\n",
    "        even_odd.append((x, 'even'))\n",
    "    else:\n",
    "        even_odd.append((x, 'odd'))\n",
    "\n",
    "for xy in even_odd:\n",
    "    print(f'The number {xy[0]}, is {xy[1]}')\n",
    "\n",
    "for M in number_list:\n",
    "    square = M**2\n",
    "    print(f'The number {M} and its square: {M, square}')\n",
    "\n",
    "total = (number1+number2+number3)\n",
    "print(f'Amazing! The sum of your favorite numbers is: {total}')\n",
    "\n",
    "prim_number = True\n",
    "if total <=1:\n",
    "    prim_number = False\n",
    "for N in range(2,total):\n",
    "    if total % N == 0:\n",
    "        prim_number=False\n",
    "        \n",
    "\n",
    "if prim_number:\n",
    "    print(f' {total} is prime number')\n",
    "else:\n",
    "    print(f'{total} is not prime number')\n",
    "    \n",
    "\n",
    "\n"
   ]
  }
 ],
 "metadata": {
  "kernelspec": {
   "display_name": "Python 3",
   "language": "python",
   "name": "python3"
  },
  "language_info": {
   "codemirror_mode": {
    "name": "ipython",
    "version": 3
   },
   "file_extension": ".py",
   "mimetype": "text/x-python",
   "name": "python",
   "nbconvert_exporter": "python",
   "pygments_lexer": "ipython3",
   "version": "3.12.3"
  }
 },
 "nbformat": 4,
 "nbformat_minor": 2
}
